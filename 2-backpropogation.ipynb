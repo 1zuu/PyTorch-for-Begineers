{
 "cells": [
  {
   "cell_type": "markdown",
   "id": "6cbc4f50-05ea-4cdf-a747-83ff7a5f6cc6",
   "metadata": {},
   "source": [
    "# **Backpropogation algorithm used to optimize the function approximations of DNNs. There are 3 Steps in Backpropogation**\n",
    "\n",
    "            1. Forward Pass (Compute Loss)\n",
    "            2. Compute Upstream Gradients\n",
    "            3. Backward Pass (Compute Downstream Gradients)"
   ]
  },
  {
   "cell_type": "code",
   "execution_count": 2,
   "id": "db62a0d4-1a9a-46c5-bd38-74847958a3bb",
   "metadata": {},
   "outputs": [],
   "source": [
    "import torch"
   ]
  },
  {
   "cell_type": "code",
   "execution_count": 3,
   "id": "c04b6a80-9f42-4f22-b340-62bfd33e64e8",
   "metadata": {},
   "outputs": [],
   "source": [
    "a = torch.tensor(1)\n",
    "b = torch.tensor(2)\n",
    "\n",
    "w = torch.tensor(1.0, requires_grad=True)"
   ]
  },
  {
   "cell_type": "code",
   "execution_count": 7,
   "id": "a69c9583-046c-45b9-9970-d6b1be3e0520",
   "metadata": {},
   "outputs": [],
   "source": [
    "# Forward Pass\n",
    "b_hat = w * a\n",
    "\n",
    "# Compute Loss\n",
    "loss = (b_hat - b) ** 2\n",
    "\n",
    "#Backward Pass\n",
    "loss.backward()"
   ]
  },
  {
   "cell_type": "code",
   "execution_count": 8,
   "id": "16cf8bfc-1ea2-438a-9b15-2c513d8503b0",
   "metadata": {},
   "outputs": [
    {
     "data": {
      "text/plain": [
       "tensor(-2.)"
      ]
     },
     "execution_count": 8,
     "metadata": {},
     "output_type": "execute_result"
    }
   ],
   "source": [
    "w.grad"
   ]
  },
  {
   "cell_type": "code",
   "execution_count": null,
   "id": "5848fc3e-f5f0-4f02-beff-5adca4f14a2a",
   "metadata": {},
   "outputs": [],
   "source": [
    "### update weights\n",
    "w"
   ]
  }
 ],
 "metadata": {
  "kernelspec": {
   "display_name": "Python 3 (ipykernel)",
   "language": "python",
   "name": "python3"
  },
  "language_info": {
   "codemirror_mode": {
    "name": "ipython",
    "version": 3
   },
   "file_extension": ".py",
   "mimetype": "text/x-python",
   "name": "python",
   "nbconvert_exporter": "python",
   "pygments_lexer": "ipython3",
   "version": "3.8.12"
  }
 },
 "nbformat": 4,
 "nbformat_minor": 5
}

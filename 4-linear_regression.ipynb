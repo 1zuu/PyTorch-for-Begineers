{
 "cells": [
  {
   "cell_type": "code",
   "execution_count": 40,
   "id": "e9f67a46-5582-48ef-a0a3-120f516b8889",
   "metadata": {},
   "outputs": [],
   "source": [
    "import torch\n",
    "import torch.nn as nn\n",
    "\n",
    "import numpy as np\n",
    "from sklearn import datasets\n",
    "from matplotlib import pyplot as plt"
   ]
  },
  {
   "cell_type": "markdown",
   "id": "56b6fac7-5830-4562-aeed-3ceb3df551bc",
   "metadata": {},
   "source": [
    "## Step 1 : Generate Regression Dataset"
   ]
  },
  {
   "cell_type": "code",
   "execution_count": 41,
   "id": "8d79b9a8-c95b-4e0b-b8de-e1cd44fe162e",
   "metadata": {},
   "outputs": [],
   "source": [
    "X_numpy, Y_numpy = datasets.make_regression(\n",
    "                                        n_samples = 5000,\n",
    "                                        n_features = 1,\n",
    "                                        noise=20,\n",
    "                                        random_state=1234\n",
    "                                        )"
   ]
  },
  {
   "cell_type": "code",
   "execution_count": 42,
   "id": "f5eb2fc8-b2da-49b9-8436-8da83c514214",
   "metadata": {},
   "outputs": [],
   "source": [
    "X = torch.from_numpy(X_numpy.astype(np.float32))\n",
    "Y = torch.from_numpy(Y_numpy.astype(np.float32))\n",
    "\n",
    "Y = Y.view(-1,1)\n",
    "n_samples, n_features = X.shape"
   ]
  },
  {
   "cell_type": "markdown",
   "id": "52205c7c-c9c3-48c0-850f-e752175a1aed",
   "metadata": {},
   "source": [
    "## Step 2 : Model / Loss Function / Optimizer"
   ]
  },
  {
   "cell_type": "code",
   "execution_count": 43,
   "id": "092e5cc1-54f5-4acc-989f-25998306ee21",
   "metadata": {},
   "outputs": [],
   "source": [
    "model = nn.Linear(n_features, Y.shape[1])\n",
    "criterion = nn.MSELoss()\n",
    "optimizer = torch.optim.SGD(model.parameters(), lr = 0.01)"
   ]
  },
  {
   "cell_type": "markdown",
   "id": "ee2bc344-3d77-45a1-a597-40a697c083df",
   "metadata": {},
   "source": [
    "## Step 3 : Training Loop"
   ]
  },
  {
   "cell_type": "code",
   "execution_count": 44,
   "id": "5eceb78b-e171-410c-86ed-7f110002d3cc",
   "metadata": {},
   "outputs": [
    {
     "name": "stdout",
     "output_type": "stream",
     "text": [
      "Epoch : 10 -> Loss : 2139.055\n",
      "Epoch : 20 -> Loss : 1570.079\n",
      "Epoch : 30 -> Loss : 1187.882\n",
      "Epoch : 40 -> Loss : 931.124\n",
      "Epoch : 50 -> Loss : 758.619\n",
      "Epoch : 60 -> Loss : 642.708\n",
      "Epoch : 70 -> Loss : 564.817\n",
      "Epoch : 80 -> Loss : 512.469\n",
      "Epoch : 90 -> Loss : 477.285\n",
      "Epoch : 100 -> Loss : 453.635\n",
      "Epoch : 110 -> Loss : 437.736\n",
      "Epoch : 120 -> Loss : 427.047\n",
      "Epoch : 130 -> Loss : 419.86\n",
      "Epoch : 140 -> Loss : 415.027\n",
      "Epoch : 150 -> Loss : 411.777\n",
      "Epoch : 160 -> Loss : 409.591\n",
      "Epoch : 170 -> Loss : 408.121\n",
      "Epoch : 180 -> Loss : 407.132\n",
      "Epoch : 190 -> Loss : 406.467\n",
      "Epoch : 200 -> Loss : 406.019\n",
      "Epoch : 210 -> Loss : 405.718\n",
      "Epoch : 220 -> Loss : 405.515\n",
      "Epoch : 230 -> Loss : 405.379\n",
      "Epoch : 240 -> Loss : 405.287\n",
      "Epoch : 250 -> Loss : 405.225\n",
      "Epoch : 260 -> Loss : 405.183\n",
      "Epoch : 270 -> Loss : 405.155\n",
      "Epoch : 280 -> Loss : 405.136\n",
      "Epoch : 290 -> Loss : 405.124\n",
      "Epoch : 300 -> Loss : 405.115\n",
      "Epoch : 310 -> Loss : 405.11\n",
      "Epoch : 320 -> Loss : 405.106\n",
      "Epoch : 330 -> Loss : 405.103\n",
      "Epoch : 340 -> Loss : 405.101\n",
      "Epoch : 350 -> Loss : 405.1\n",
      "Epoch : 360 -> Loss : 405.099\n",
      "Epoch : 370 -> Loss : 405.099\n",
      "Epoch : 380 -> Loss : 405.098\n",
      "Epoch : 390 -> Loss : 405.098\n",
      "Epoch : 400 -> Loss : 405.098\n",
      "Epoch : 410 -> Loss : 405.098\n",
      "Epoch : 420 -> Loss : 405.098\n",
      "Epoch : 430 -> Loss : 405.098\n",
      "Epoch : 440 -> Loss : 405.098\n",
      "Epoch : 450 -> Loss : 405.098\n",
      "Epoch : 460 -> Loss : 405.098\n",
      "Epoch : 470 -> Loss : 405.098\n",
      "Epoch : 480 -> Loss : 405.098\n",
      "Epoch : 490 -> Loss : 405.098\n",
      "Epoch : 500 -> Loss : 405.098\n"
     ]
    }
   ],
   "source": [
    "epoches = range(500)\n",
    "\n",
    "for epoch in epoches:\n",
    "    Y_hat = model(X) # Forward Pass\n",
    "    loss = criterion(Y_hat, Y)\n",
    "    \n",
    "    loss.backward() # Calculate Gradients\n",
    "    optimizer.step() # backward Pass\n",
    "\n",
    "    optimizer.zero_grad()\n",
    "    if (epoch + 1) % 10 == 0:\n",
    "        print(\"Epoch : {} -> Loss : {}\".format(epoch+1, round(loss.item(), 3)))"
   ]
  },
  {
   "cell_type": "code",
   "execution_count": 59,
   "id": "456c2957-3829-4788-a5a0-9e8ca7792ce2",
   "metadata": {},
   "outputs": [
    {
     "data": {
      "text/plain": [
       "array([   1.2339789,  -11.706043 , -162.87206  , ...,  120.11997  ,\n",
       "        -64.91666  ,   45.861305 ], dtype=float32)"
      ]
     },
     "execution_count": 59,
     "metadata": {},
     "output_type": "execute_result"
    }
   ],
   "source": [
    "P = model(X).detach().numpy().squeeze()\n",
    "P"
   ]
  },
  {
   "cell_type": "code",
   "execution_count": 61,
   "id": "dc51d826-5fc6-43da-a832-5ee93bba0eb1",
   "metadata": {},
   "outputs": [
    {
     "data": {
      "image/png": "[encoded data removed]",
      "text/plain": [
       "<Figure size 432x288 with 1 Axes>"
      ]
     },
     "metadata": {
      "needs_background": "light"
     },
     "output_type": "display_data"
    }
   ],
   "source": [
    "plt.scatter(X_numpy.reshape(-1,), Y_numpy, color='r')\n",
    "plt.plot(X_numpy.reshape(-1,), P, color='b')\n",
    "plt.xlabel('X')\n",
    "plt.ylabel('Y')\n",
    "plt.show()"
   ]
  }
 ],
 "metadata": {
  "kernelspec": {
   "display_name": "Python 3 (ipykernel)",
   "language": "python",
   "name": "python3"
  },
  "language_info": {
   "codemirror_mode": {
    "name": "ipython",
    "version": 3
   },
   "file_extension": ".py",
   "mimetype": "text/x-python",
   "name": "python",
   "nbconvert_exporter": "python",
   "pygments_lexer": "ipython3",
   "version": "3.8.12"
  }
 },
 "nbformat": 4,
 "nbformat_minor": 5
}
